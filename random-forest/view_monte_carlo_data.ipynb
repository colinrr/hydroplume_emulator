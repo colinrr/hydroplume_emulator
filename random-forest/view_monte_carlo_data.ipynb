{
 "cells": [
  {
   "cell_type": "markdown",
   "id": "88b0add2-b17d-4ecd-870d-d0afb3c1c696",
   "metadata": {},
   "source": [
    "# Quick perusal of the post-processed monte carlo output data"
   ]
  },
  {
   "cell_type": "code",
   "execution_count": 16,
   "id": "92126b6a-b3f7-4786-b737-12fbd563e7bf",
   "metadata": {},
   "outputs": [],
   "source": [
    "import pandas as pd\n",
    "import scipy.io as spio\n",
    "from os.path import join\n",
    "from utils.mat_tools import matfile_struct_to_dict as mat2dict\n",
    "import pprint\n",
    "\n",
    "data_dir = '/Users/crrowell/code/research-projects/katla/katlaPlumePhysicsEmulator/data'\n",
    "\n",
    "monte_carlo_fixed_vars_file = join(data_dir, 'fixed_MC_vars.mat')  # Simulation fixed input parameters\n",
    "monte_carlo_rand_vars_file  = join(data_dir, 'rand_MC_vars.parquet') # Simulation randomized input parameters\n",
    "monte_carlo_data_file       = join(data_dir, 'KatlaHydro_v8_noLd_2024-06-22_N10000.parquet')  # I/O data table for main parameters of interest\n",
    "\n",
    "monte_carlo_fixed_vars = mat2dict(monte_carlo_fixed_vars_file,'fixedVars')\n",
    "monte_carlo_rand_vars  = pd.read_parquet(monte_carlo_rand_vars_file)\n",
    "mc_df                  = pd.read_parquet(monte_carlo_data_file)\n",
    "\n"
   ]
  },
  {
   "cell_type": "code",
   "execution_count": 33,
   "id": "979b43a5-d87d-4306-9c97-b7dbe03b0e7b",
   "metadata": {},
   "outputs": [
    {
     "name": "stdout",
     "output_type": "stream",
     "text": [
      "---> Fixed simulation input:\n",
      "\t\n",
      "{'T_ec': array(273.15),\n",
      " 'T_g': array(870, dtype=uint16),\n",
      " 'T_g_rng': array(50, dtype=uint8),\n",
      " 'Tw0': array(273.15),\n",
      " 'atmo': array('C:\\\\Users\\\\crowell\\\\Kahuna\\\\data\\\\gvolc-meghan\\\\ERA5\\\\Katla_avg_atmo_Oct12_1979-2005.mat',\n",
      "      dtype='<U81'),\n",
      " 'phiFrag_mu': array(3, dtype=uint8),\n",
      " 'phiFrag_sig': array(1.25),\n",
      " 'proxy': array(1, dtype=uint8),\n",
      " 'rho_melt': array(2600, dtype=uint16),\n",
      " 'rho_rock': array(2800, dtype=uint16),\n",
      " 'useDecompressLength': array(0, dtype=uint8),\n",
      " 'vh0': array(850, dtype=uint16)}\n",
      "\n",
      "---> Randomized simulation input:\n",
      "\t      Row   Value 1   Value 2 Distribution Type\n",
      "0      T  1375.000  1525.000           uniform\n",
      "1     Zw     0.000   500.000           uniform\n",
      "2    n_0     0.005     0.025           uniform\n",
      "3   n_ec     0.000     0.200           uniform\n",
      "4   logQ     6.000     8.000           uniform\n",
      "5  a_var     1.000     0.150            normal\n",
      "6      D     2.700     2.800          discrete\n",
      "\n",
      "---> I/O data table:\n",
      "<class 'pandas.core.frame.DataFrame'>\n",
      "RangeIndex: 10000 entries, 0 to 9999\n",
      "Data columns (total 14 columns):\n",
      " #   Column          Non-Null Count  Dtype  \n",
      "---  ------          --------------  -----  \n",
      " 0   T               10000 non-null  float64\n",
      " 1   Ze              10000 non-null  float64\n",
      " 2   n_0             10000 non-null  float64\n",
      " 3   n_ec            10000 non-null  float64\n",
      " 4   Q               10000 non-null  float64\n",
      " 5   conduit_radius  10000 non-null  float64\n",
      " 6   D               10000 non-null  float64\n",
      " 7   clps_regime     10000 non-null  float64\n",
      " 8   hm              3202 non-null   float64\n",
      " 9   qs0             10000 non-null  float64\n",
      " 10  qsC             10000 non-null  float64\n",
      " 11  rC              10000 non-null  float64\n",
      " 12  qw0             10000 non-null  float64\n",
      " 13  qwC             10000 non-null  float64\n",
      "dtypes: float64(14)\n",
      "memory usage: 1.1 MB\n",
      "                  T            Ze  ...           qw0           qwC\n",
      "count  10000.000000  10000.000000  ...  1.000000e+04  1.000000e+04\n",
      "mean    1449.909143    249.939159  ...  6.973076e+06  7.613846e+06\n",
      "std       43.353767    143.642122  ...  2.475917e+07  2.511767e+07\n",
      "min     1375.004619      0.047261  ... -2.435088e+06  0.000000e+00\n",
      "25%     1411.905842    126.907591  ... -2.354371e+05  0.000000e+00\n",
      "50%     1449.553863    248.634274  ... -5.417719e+04  0.000000e+00\n",
      "75%     1487.393737    374.530888  ... -1.172521e+04  0.000000e+00\n",
      "max     1524.988583    499.938606  ...  2.520327e+08  2.537541e+08\n",
      "\n",
      "[8 rows x 14 columns]\n"
     ]
    }
   ],
   "source": [
    "# Check data overview\n",
    "print('---> Fixed simulation input:\\n\\t')\n",
    "pprint.pprint(monte_carlo_fixed_vars)\n",
    "print('\\n---> Randomized simulation input:\\n\\t', monte_carlo_rand_vars)\n",
    "# monte_carlo_rand_vars.describe()\n",
    "print('\\n---> I/O data table:')\n",
    "mc_df.info()\n",
    "print(mc_df.describe())"
   ]
  },
  {
   "cell_type": "code",
   "execution_count": null,
   "id": "3bc33f7c-4154-4eec-80f4-4303d3e5373e",
   "metadata": {},
   "outputs": [],
   "source": [
    "# Create a dataframe of scaled values\n",
    "mc_df_scaled = mc_df.copy()\n"
   ]
  }
 ],
 "metadata": {
  "kernelspec": {
   "display_name": "Python 3 (Spyder)",
   "language": "python3",
   "name": "python3"
  },
  "language_info": {
   "codemirror_mode": {
    "name": "ipython",
    "version": 3
   },
   "file_extension": ".py",
   "mimetype": "text/x-python",
   "name": "python",
   "nbconvert_exporter": "python",
   "pygments_lexer": "ipython3",
   "version": "3.12.1"
  }
 },
 "nbformat": 4,
 "nbformat_minor": 5
}
